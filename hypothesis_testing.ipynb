{
 "cells": [
  {
   "cell_type": "markdown",
   "metadata": {},
   "source": [
    "Exercises\n",
    "Do your work for this exercise in a jupyter notebook named hypothesis_testing.ipynb.\n",
    "\n",
    "For each of the following questions, formulate a null and alternative hypothesis (be as specific as you can be), then give an example of what a true positive, true negative, type I and type II errors would look like. Note that some of the questions are intentionally phrased in a vague way. It is your job to reword these as more precise questions that could be tested."
   ]
  },
  {
   "cell_type": "markdown",
   "metadata": {},
   "source": [
    "Has the network latency gone up since we switched internet service providers?"
   ]
  },
  {
   "cell_type": "markdown",
   "metadata": {},
   "source": [
    "$H_0$ The internet latency has not changed since we switched internet providers.\n",
    "\n",
    "$H_a$ The internet latency has gone down since we switched internet providers."
   ]
  },
  {
   "cell_type": "markdown",
   "metadata": {},
   "source": [
    "True positive: We have rejected our null hypothesis. The internet latency has reduced since we switched internet providers.\n",
    "True negative: We have failed to reject the null hypothesis. The internet has not changed since we switched internet providers\n",
    "Type I error: We have rejected our null hypotheses (H_0) however we belive that our H_0 remains true. The internet latency has remained the same.\n",
    "Type II error: We have failed to reject our null hypotheses however the findings show that the internet latency has reduced since we switched internet providers."
   ]
  },
  {
   "cell_type": "markdown",
   "metadata": {},
   "source": [
    "Is the website redesign any good?"
   ]
  },
  {
   "cell_type": "markdown",
   "metadata": {},
   "source": [
    "$H_0$ The website redisign is straight fire. You are just a hater.\n",
    "\n",
    "$H_a$ Users find the website redisgn to be less appealing than the original design."
   ]
  },
  {
   "cell_type": "markdown",
   "metadata": {},
   "source": [
    "True positive: We have rejected the null hypothesis. Users find the new website redisign to be less appealing than the original design.\n",
    "True negative: We have failed to reject the null hypothesis. The website redisign is as a basis of measurable fact: fire.\n",
    "Type I error: We have rejected the null hypothesis. However the null hypotheses remains true and the webiste is in fact fire. And yous a hater.\n",
    "Type II error: We have failed to reject the null hypothesis. However the null hypotheses is false and the websight redisign is 'meh' at best."
   ]
  },
  {
   "cell_type": "markdown",
   "metadata": {},
   "source": [
    "Is our television ad driving more sales?"
   ]
  },
  {
   "cell_type": "markdown",
   "metadata": {},
   "source": [
    "$H_0$ Our television ad has had no change in sales.\n",
    "\n",
    "$H_a$ Our televsion ad has lead to an increase in sales."
   ]
  },
  {
   "cell_type": "markdown",
   "metadata": {},
   "source": [
    "True positive: We have rejected our null hypothesis. The television ad has had an increase in our sales.\n",
    "True negative: We have failed to reject our null hypothesis. The television ad has not had a change in sales.\n",
    "Type I error: We have rejected our null hypothesis. However the ad has had no measureable change in sales.\n",
    "Type II error: We have failed to reject our null hypothesis. However the ad has caused a measurable change in sales. "
   ]
  }
 ],
 "metadata": {
  "kernelspec": {
   "display_name": "base",
   "language": "python",
   "name": "python3"
  },
  "language_info": {
   "name": "python",
   "version": "3.10.9"
  },
  "orig_nbformat": 4
 },
 "nbformat": 4,
 "nbformat_minor": 2
}
